{
 "cells": [
  {
   "cell_type": "markdown",
   "metadata": {},
   "source": [
    "# Python Pre_Training \n",
    "### Edward Torres"
   ]
  },
  {
   "cell_type": "markdown",
   "metadata": {},
   "source": [
    "## Python fundamentals Exercises (Expressions, Strings, Lists, Tuples)\n",
    "The notebook intends to help you practice these concepts. Attempt honestly.\n",
    "Instructions/Suggestions:\n",
    "\n",
    "\n",
    "\n",
    "Don't forget to copy the expression from the Question to code cell!\n",
    "\n",
    "You can use the python documentation anytime you want to learn about a new function or attribute.\n",
    "\n",
    "### Q1: What is 84 / 12 + 2 * 2 ?"
   ]
  },
  {
   "cell_type": "code",
   "execution_count": 1,
   "metadata": {},
   "outputs": [
    {
     "data": {
      "text/plain": [
       "11.0"
      ]
     },
     "execution_count": 1,
     "metadata": {},
     "output_type": "execute_result"
    }
   ],
   "source": [
    "84/12+2*2"
   ]
  },
  {
   "cell_type": "markdown",
   "metadata": {},
   "source": [
    "### Q2: What is the type of the answer variable in this expression:\n",
    "answer = 12/4"
   ]
  },
  {
   "cell_type": "code",
   "execution_count": 2,
   "metadata": {},
   "outputs": [
    {
     "data": {
      "text/plain": [
       "float"
      ]
     },
     "execution_count": 2,
     "metadata": {},
     "output_type": "execute_result"
    }
   ],
   "source": [
    "type(12/4)"
   ]
  },
  {
   "cell_type": "markdown",
   "metadata": {},
   "source": [
    "### Q3: What is the value of num?\n",
    "num = 2\n",
    "num = 5*10"
   ]
  },
  {
   "cell_type": "code",
   "execution_count": 3,
   "metadata": {},
   "outputs": [],
   "source": [
    "num = 2\n",
    "num = 5*10"
   ]
  },
  {
   "cell_type": "code",
   "execution_count": 4,
   "metadata": {},
   "outputs": [
    {
     "data": {
      "text/plain": [
       "50"
      ]
     },
     "execution_count": 4,
     "metadata": {},
     "output_type": "execute_result"
    }
   ],
   "source": [
    "num"
   ]
  },
  {
   "cell_type": "markdown",
   "metadata": {},
   "source": [
    "### Q4: What would this expression evaluate to?\n",
    "'tom' + 1"
   ]
  },
  {
   "cell_type": "code",
   "execution_count": 5,
   "metadata": {},
   "outputs": [
    {
     "ename": "TypeError",
     "evalue": "can only concatenate str (not \"int\") to str",
     "output_type": "error",
     "traceback": [
      "\u001b[0;31m---------------------------------------------------------------------------\u001b[0m",
      "\u001b[0;31mTypeError\u001b[0m                                 Traceback (most recent call last)",
      "\u001b[0;32m<ipython-input-5-a6446ed41037>\u001b[0m in \u001b[0;36m<module>\u001b[0;34m\u001b[0m\n\u001b[0;32m----> 1\u001b[0;31m \u001b[0;34m'tom'\u001b[0m \u001b[0;34m+\u001b[0m \u001b[0;36m1\u001b[0m\u001b[0;34m\u001b[0m\u001b[0;34m\u001b[0m\u001b[0m\n\u001b[0m",
      "\u001b[0;31mTypeError\u001b[0m: can only concatenate str (not \"int\") to str"
     ]
    }
   ],
   "source": [
    "'tom' + 1"
   ]
  },
  {
   "cell_type": "markdown",
   "metadata": {},
   "source": [
    "### Q5: What would this expression evaluate to?\n",
    "'6' + '4'"
   ]
  },
  {
   "cell_type": "code",
   "execution_count": 6,
   "metadata": {},
   "outputs": [
    {
     "data": {
      "text/plain": [
       "'64'"
      ]
     },
     "execution_count": 6,
     "metadata": {},
     "output_type": "execute_result"
    }
   ],
   "source": [
    "'6' + '4'"
   ]
  },
  {
   "cell_type": "markdown",
   "metadata": {},
   "source": [
    "### Q6: What would be the output of MyString[5:12] if?\n",
    "MyString = \"Data Science with Harshit\""
   ]
  },
  {
   "cell_type": "code",
   "execution_count": 7,
   "metadata": {},
   "outputs": [
    {
     "data": {
      "text/plain": [
       "'Science'"
      ]
     },
     "execution_count": 7,
     "metadata": {},
     "output_type": "execute_result"
    }
   ],
   "source": [
    "MyString = \"Data Science with Harshit\"\n",
    "MyString[5:12]"
   ]
  },
  {
   "cell_type": "markdown",
   "metadata": {},
   "source": [
    "### Q7: What would be the output of MyString[5:] if?\n",
    "MyString = \"Data Science with Harshit\""
   ]
  },
  {
   "cell_type": "code",
   "execution_count": 8,
   "metadata": {},
   "outputs": [
    {
     "data": {
      "text/plain": [
       "'Science with Harshit'"
      ]
     },
     "execution_count": 8,
     "metadata": {},
     "output_type": "execute_result"
    }
   ],
   "source": [
    "MyString[5:]"
   ]
  },
  {
   "cell_type": "markdown",
   "metadata": {},
   "source": [
    "### Q8: What would be the output of MyString[5::2] if?\n",
    "MyString = \"Data Science with Harshit\""
   ]
  },
  {
   "cell_type": "code",
   "execution_count": 9,
   "metadata": {},
   "outputs": [
    {
     "data": {
      "text/plain": [
       "'Sinewt asi'"
      ]
     },
     "execution_count": 9,
     "metadata": {},
     "output_type": "execute_result"
    }
   ],
   "source": [
    "MyString[5::2]"
   ]
  },
  {
   "cell_type": "markdown",
   "metadata": {},
   "source": [
    "### Q9: Is there any 'go' in MyString if yes, at what index?\n",
    "MyString = \"You should go to your home!\""
   ]
  },
  {
   "cell_type": "code",
   "execution_count": 27,
   "metadata": {},
   "outputs": [
    {
     "data": {
      "text/plain": [
       "11"
      ]
     },
     "execution_count": 27,
     "metadata": {},
     "output_type": "execute_result"
    }
   ],
   "source": [
    "MyString = \"You should go to your home!\"\n",
    "MyString.index('go')"
   ]
  },
  {
   "cell_type": "markdown",
   "metadata": {},
   "source": [
    "Yes at 11"
   ]
  },
  {
   "cell_type": "markdown",
   "metadata": {},
   "source": [
    "### Q10: Evaluate the following expression and convert it to string object?\n",
    "18 + 19 * 11"
   ]
  },
  {
   "cell_type": "code",
   "execution_count": 12,
   "metadata": {},
   "outputs": [],
   "source": [
    "ans = 18+19*11"
   ]
  },
  {
   "cell_type": "code",
   "execution_count": 13,
   "metadata": {},
   "outputs": [
    {
     "data": {
      "text/plain": [
       "'227'"
      ]
     },
     "execution_count": 13,
     "metadata": {},
     "output_type": "execute_result"
    }
   ],
   "source": [
    "str(ans)"
   ]
  },
  {
   "cell_type": "code",
   "execution_count": 15,
   "metadata": {},
   "outputs": [],
   "source": [
    "string_ans = str(ans)"
   ]
  },
  {
   "cell_type": "code",
   "execution_count": 16,
   "metadata": {},
   "outputs": [
    {
     "data": {
      "text/plain": [
       "str"
      ]
     },
     "execution_count": 16,
     "metadata": {},
     "output_type": "execute_result"
    }
   ],
   "source": [
    "type(string_ans)"
   ]
  },
  {
   "cell_type": "markdown",
   "metadata": {},
   "source": [
    "### Q11: Replace Harshit with your name in the statement below.\n",
    "MyString = \"Data Science with Harshit\""
   ]
  },
  {
   "cell_type": "code",
   "execution_count": 20,
   "metadata": {},
   "outputs": [
    {
     "data": {
      "text/plain": [
       "'Data Science with Edward'"
      ]
     },
     "execution_count": 20,
     "metadata": {},
     "output_type": "execute_result"
    }
   ],
   "source": [
    "MyString = \"Data Science with Harshit\"\n",
    "MyString.replace(\"Harshit\",\"Edward\")"
   ]
  },
  {
   "cell_type": "markdown",
   "metadata": {},
   "source": [
    "### Q12: Use the split() function to extract all the words of MyString in a list:¶\n",
    "MyString = \"Data Science with Harshit\""
   ]
  },
  {
   "cell_type": "code",
   "execution_count": 21,
   "metadata": {},
   "outputs": [
    {
     "data": {
      "text/plain": [
       "['Data', 'Science', 'with', 'Harshit']"
      ]
     },
     "execution_count": 21,
     "metadata": {},
     "output_type": "execute_result"
    }
   ],
   "source": [
    "MyString.split()"
   ]
  },
  {
   "cell_type": "markdown",
   "metadata": {},
   "source": [
    "### Q13: Extract the last element of the list without counting.\n",
    "MyList = [23, 43, 56, 'tom', 'red', 65, 89, 90, 87]"
   ]
  },
  {
   "cell_type": "code",
   "execution_count": 22,
   "metadata": {},
   "outputs": [
    {
     "data": {
      "text/plain": [
       "87"
      ]
     },
     "execution_count": 22,
     "metadata": {},
     "output_type": "execute_result"
    }
   ],
   "source": [
    "MyList = [23, 43, 56, 'tom', 'red', 65, 89, 90, 87]\n",
    "MyList[-1]"
   ]
  },
  {
   "cell_type": "markdown",
   "metadata": {},
   "source": [
    "### Q14: What is the length of the list below?\n",
    "MyList = [23, 43, 56, 'tom', 'red', 65, 89, 90, 87]"
   ]
  },
  {
   "cell_type": "code",
   "execution_count": 23,
   "metadata": {},
   "outputs": [
    {
     "data": {
      "text/plain": [
       "9"
      ]
     },
     "execution_count": 23,
     "metadata": {},
     "output_type": "execute_result"
    }
   ],
   "source": [
    "len(MyList)"
   ]
  },
  {
   "cell_type": "markdown",
   "metadata": {},
   "source": [
    "### Q15: Extract all the elements from 2nd index to 6th index.\n",
    "MyList = [23, 43, 56, 'tom', 'red', 65, 89, 90, 87]"
   ]
  },
  {
   "cell_type": "code",
   "execution_count": 26,
   "metadata": {},
   "outputs": [
    {
     "data": {
      "text/plain": [
       "[43, 56, 'tom', 'red', 65]"
      ]
     },
     "execution_count": 26,
     "metadata": {},
     "output_type": "execute_result"
    }
   ],
   "source": [
    "MyList[1:6]"
   ]
  },
  {
   "cell_type": "markdown",
   "metadata": {},
   "source": [
    "### Q16: Extract all the elements except last 2 using slicing\n",
    "MyList = [23, 43, 56, 'tom', 'red', 65, 89, 90, 87]"
   ]
  },
  {
   "cell_type": "code",
   "execution_count": 29,
   "metadata": {},
   "outputs": [
    {
     "data": {
      "text/plain": [
       "[23, 43, 56, 'tom', 'red', 65, 89]"
      ]
     },
     "execution_count": 29,
     "metadata": {},
     "output_type": "execute_result"
    }
   ],
   "source": [
    "MyList[0:-2]"
   ]
  },
  {
   "cell_type": "markdown",
   "metadata": {},
   "source": [
    "### Q17: Are lists mutable? (Yes/No)"
   ]
  },
  {
   "cell_type": "markdown",
   "metadata": {},
   "source": [
    "Yes"
   ]
  },
  {
   "cell_type": "markdown",
   "metadata": {},
   "source": [
    "### Q18: Sort the below list using the in-built list class function:\n",
    "MyList = [23, 43, 56, 65, 89, 90, 87]"
   ]
  },
  {
   "cell_type": "code",
   "execution_count": 45,
   "metadata": {},
   "outputs": [
    {
     "name": "stdout",
     "output_type": "stream",
     "text": [
      "[23, 43, 56, 65, 87, 89, 90]\n"
     ]
    }
   ],
   "source": [
    "MyList = [23, 43, 56, 65, 89, 90, 87]\n",
    "MyList.sort()\n",
    "print(MyList)"
   ]
  },
  {
   "cell_type": "markdown",
   "metadata": {},
   "source": [
    "### Q19: Delete 'tom' and 'red' from the list using remove() function.\n",
    "MyList = [23, 43, 56, 'tom', 'red', 65, 89, 90, 87]"
   ]
  },
  {
   "cell_type": "code",
   "execution_count": 77,
   "metadata": {},
   "outputs": [
    {
     "name": "stdout",
     "output_type": "stream",
     "text": [
      "[23, 43, 56, 65, 89, 90, 87]\n"
     ]
    }
   ],
   "source": [
    "MyList = [23, 43, 56, 'tom', 'red', 65, 89, 90, 87]\n",
    "MyList.remove('tom')\n",
    "MyList.remove('red')\n",
    "print(MyList)"
   ]
  },
  {
   "cell_type": "markdown",
   "metadata": {},
   "source": [
    "### Q20: Tuples are mutable(True/False)"
   ]
  },
  {
   "cell_type": "markdown",
   "metadata": {},
   "source": [
    "False"
   ]
  },
  {
   "cell_type": "markdown",
   "metadata": {},
   "source": [
    "### Q21: From a tuple (23, -1, 34, [1 , 3] , 90), extract 3."
   ]
  },
  {
   "cell_type": "code",
   "execution_count": 51,
   "metadata": {},
   "outputs": [],
   "source": [
    "tuple = (23, -1, 34, [1 , 3] , 90)\n"
   ]
  },
  {
   "cell_type": "markdown",
   "metadata": {},
   "source": [
    "### Q22: What is right method to clone a list? Create a clone the list below. Imp (Hint: slicing)¶\n",
    "MyList = [23, 43, 56, 'tom', 'red', 65, 89, 90, 87]"
   ]
  },
  {
   "cell_type": "code",
   "execution_count": 55,
   "metadata": {},
   "outputs": [
    {
     "name": "stdout",
     "output_type": "stream",
     "text": [
      "[23, 43, 56, 'tom', 'red', 65, 89, 90, 87]\n"
     ]
    }
   ],
   "source": [
    "MyList = [23, 43, 56, 'tom', 'red', 65, 89, 90, 87]\n",
    "MyList2 = MyList[:]\n",
    "print(MyList2)"
   ]
  },
  {
   "cell_type": "markdown",
   "metadata": {},
   "source": [
    "## Python fundamentals Exercises (Conditionals, Loops)"
   ]
  },
  {
   "cell_type": "markdown",
   "metadata": {},
   "source": [
    "### Q1: What would be the output of the following code block?\n",
    "count = 4\n",
    "print(count == 2)\n",
    "print(count != 4)\n",
    "print(count > 4)\n",
    "print(count < 6)"
   ]
  },
  {
   "cell_type": "code",
   "execution_count": 56,
   "metadata": {},
   "outputs": [
    {
     "name": "stdout",
     "output_type": "stream",
     "text": [
      "False\n",
      "False\n",
      "False\n",
      "True\n"
     ]
    }
   ],
   "source": [
    "count = 4\n",
    "print(count == 2)\n",
    "print(count != 4)\n",
    "print(count > 4)\n",
    "print(count < 6)"
   ]
  },
  {
   "cell_type": "markdown",
   "metadata": {},
   "source": [
    "### Q2: What would be the output of the following code block?\n",
    "color = \"red\"\n",
    "category = \"fruit\"\n",
    "\n",
    "if color == \"red\" and category == \"fruit\":\n",
    "    print(\"We have an Apple!)\n",
    "\n",
    "if color == \"red\" and category == \"vegetable\":\n",
    "    print(\"We have tomatoes\")"
   ]
  },
  {
   "cell_type": "code",
   "execution_count": 57,
   "metadata": {},
   "outputs": [
    {
     "ename": "SyntaxError",
     "evalue": "EOL while scanning string literal (<ipython-input-57-8352076ff5a9>, line 5)",
     "output_type": "error",
     "traceback": [
      "\u001b[0;36m  File \u001b[0;32m\"<ipython-input-57-8352076ff5a9>\"\u001b[0;36m, line \u001b[0;32m5\u001b[0m\n\u001b[0;31m    print(\"We have an Apple!)\u001b[0m\n\u001b[0m                             ^\u001b[0m\n\u001b[0;31mSyntaxError\u001b[0m\u001b[0;31m:\u001b[0m EOL while scanning string literal\n"
     ]
    }
   ],
   "source": [
    "color = \"red\"\n",
    "category = \"fruit\"\n",
    "\n",
    "if color == \"red\" and category == \"fruit\":\n",
    "    print(\"We have an Apple!)\n",
    "\n",
    "if color == \"red\" and category == \"vegetable\":\n",
    "    print(\"We have tomatoes\")"
   ]
  },
  {
   "cell_type": "markdown",
   "metadata": {},
   "source": [
    "### Q3: What would be the output of the following code block?\n",
    "requested = ['blueberry', 'banana']\n",
    "fruits = ['apple', 'banana', 'watermelon', 'kiwi', 'rasberry']\n",
    "\n",
    "if requested not in fruits:\n",
    "    print(\"Sorry, We don't have bananas in stock. Please review your order!\")\n",
    "\n",
    "else:\n",
    "    print(\"Order is placed!\")"
   ]
  },
  {
   "cell_type": "code",
   "execution_count": 58,
   "metadata": {},
   "outputs": [
    {
     "name": "stdout",
     "output_type": "stream",
     "text": [
      "Sorry, We don't have bananas in stock. Please review your order!\n"
     ]
    }
   ],
   "source": [
    "requested = ['blueberry', 'banana']\n",
    "fruits = ['apple', 'banana', 'watermelon', 'kiwi', 'rasberry']\n",
    "\n",
    "if requested not in fruits:\n",
    "    print(\"Sorry, We don't have bananas in stock. Please review your order!\")\n",
    "\n",
    "else:\n",
    "    print(\"Order is placed!\")"
   ]
  },
  {
   "cell_type": "markdown",
   "metadata": {},
   "source": [
    "### Q4: What would be the output of the following code block?\n",
    "scores1 = [1,2,3]\n",
    "scores2 = [1,2,3]\n",
    "\n",
    "print(score1 == score2)"
   ]
  },
  {
   "cell_type": "code",
   "execution_count": 60,
   "metadata": {},
   "outputs": [
    {
     "name": "stdout",
     "output_type": "stream",
     "text": [
      "True\n"
     ]
    }
   ],
   "source": [
    "scores1 = [1,2,3]\n",
    "scores2 = [1,2,3]\n",
    "\n",
    "print(scores1 == scores2)"
   ]
  },
  {
   "cell_type": "markdown",
   "metadata": {},
   "source": [
    "### Q5: What would be the output of the following code block? Learn about 'is' operator.\n",
    "scores1 = [1,2,3]\n",
    "scores2 = [1,2,3]\n",
    "\n",
    "print(score1 == score2)\n",
    "print(score1 is score2)"
   ]
  },
  {
   "cell_type": "code",
   "execution_count": 63,
   "metadata": {},
   "outputs": [
    {
     "name": "stdout",
     "output_type": "stream",
     "text": [
      "True\n",
      "False\n"
     ]
    }
   ],
   "source": [
    "scores1 = [1,2,3]\n",
    "scores2 = [1,2,3]\n",
    "\n",
    "print(scores1 == scores2)\n",
    "print(scores1 is scores2)"
   ]
  },
  {
   "cell_type": "markdown",
   "metadata": {},
   "source": [
    "### Q6: Print the following pattern using for loops:\n",
    "###### * **\n",
    "###### . . . *....*(n times)"
   ]
  },
  {
   "cell_type": "code",
   "execution_count": 73,
   "metadata": {},
   "outputs": [
    {
     "name": "stdout",
     "output_type": "stream",
     "text": [
      "* **\n",
      "* **\n",
      "* **\n",
      "* **\n",
      "* **\n"
     ]
    }
   ],
   "source": [
    "n = 5\n",
    "for i in range(n):\n",
    "    print('* **')"
   ]
  },
  {
   "cell_type": "markdown",
   "metadata": {},
   "source": [
    "## Python fundamentals Exercises (Dictionaries, Functions)"
   ]
  },
  {
   "cell_type": "markdown",
   "metadata": {},
   "source": [
    "## Q1: What are the keys in the following dictionary?\n",
    "MyDict = {\"Color\": \"red\", \"name\": \"apple\", \"type\": \"fruit\"}"
   ]
  },
  {
   "cell_type": "markdown",
   "metadata": {},
   "source": [
    "Color, name, type"
   ]
  },
  {
   "cell_type": "markdown",
   "metadata": {},
   "source": [
    "### Q2: Extract all the keys of the dictionary below.\n",
    "MyDict = {\"Color\": \"red\", \"name\": \"apple\", \"type\": \"fruit\"}"
   ]
  },
  {
   "cell_type": "code",
   "execution_count": 67,
   "metadata": {},
   "outputs": [
    {
     "data": {
      "text/plain": [
       "dict_keys(['Color', 'name', 'type'])"
      ]
     },
     "execution_count": 67,
     "metadata": {},
     "output_type": "execute_result"
    }
   ],
   "source": [
    "MyDict = {\"Color\": \"red\", \"name\": \"apple\", \"type\": \"fruit\"}\n",
    "MyDict.keys()"
   ]
  },
  {
   "cell_type": "markdown",
   "metadata": {},
   "source": [
    "### Q3: Iterate over the dictionary to print the corresponding key and value.\n",
    "MyDict = {\"Color\": \"red\", \"name\": \"apple\", \"type\": \"fruit\"}"
   ]
  },
  {
   "cell_type": "code",
   "execution_count": 71,
   "metadata": {},
   "outputs": [
    {
     "name": "stdout",
     "output_type": "stream",
     "text": [
      "red\n",
      "apple\n",
      "fruit\n"
     ]
    }
   ],
   "source": [
    "MyDict = {\"Color\": \"red\", \"name\": \"apple\", \"type\": \"fruit\"}\n",
    "print(MyDict[\"Color\"])\n",
    "print(MyDict[\"name\"])\n",
    "print(MyDict[\"type\"])"
   ]
  },
  {
   "cell_type": "code",
   "execution_count": null,
   "metadata": {},
   "outputs": [],
   "source": []
  }
 ],
 "metadata": {
  "kernelspec": {
   "display_name": "Python 3",
   "language": "python",
   "name": "python3"
  },
  "language_info": {
   "codemirror_mode": {
    "name": "ipython",
    "version": 3
   },
   "file_extension": ".py",
   "mimetype": "text/x-python",
   "name": "python",
   "nbconvert_exporter": "python",
   "pygments_lexer": "ipython3",
   "version": "3.8.3"
  }
 },
 "nbformat": 4,
 "nbformat_minor": 4
}
